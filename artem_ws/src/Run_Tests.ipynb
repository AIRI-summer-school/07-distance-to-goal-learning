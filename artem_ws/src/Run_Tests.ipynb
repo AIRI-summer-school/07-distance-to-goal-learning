{
 "cells": [
  {
   "cell_type": "markdown",
   "id": "1de41ad3",
   "metadata": {},
   "source": [
    "_______________________________\n",
    "\n",
    "With distance model\n",
    "_______________________________"
   ]
  },
  {
   "cell_type": "code",
   "execution_count": 2,
   "id": "ba679eb0",
   "metadata": {},
   "outputs": [
    {
     "name": "stdout",
     "output_type": "stream",
     "text": [
      "CUDA available: True\n",
      "Current device: 0\n",
      "Device name: Tesla V100-SXM3-32GB\n"
     ]
    }
   ],
   "source": [
    "import gymnasium as gym\n",
    "import numpy as np\n",
    "import torch\n",
    "import os\n",
    "\n",
    "import sys\n",
    "sys.path.insert(0, os.path.abspath(os.path.join(os.getcwd(), '..')))\n",
    "from src.env_wrappers import EnvBuilder\n",
    "from src.ppo_agent_v2 import PPOAgent\n",
    "from src.env_wrappers import GoalObservationWrapper\n",
    "import src.distance_models as distance_models\n",
    "from src.utils import trajectories_to_dataset\n",
    "\n",
    "os.environ['WANDB_API_KEY'] = 'd58c31e07030724bbab6b7e8edc93edacd934c87'\n",
    "\n",
    "# Check for GPU\n",
    "print(\"CUDA available:\", torch.cuda.is_available())\n",
    "print(\"Current device:\", torch.cuda.current_device())\n",
    "print(\"Device name:\", torch.cuda.get_device_name(torch.cuda.current_device()) if torch.cuda.is_available() else \"CPU\")"
   ]
  },
  {
   "cell_type": "code",
   "execution_count": 3,
   "id": "bfdcfea3",
   "metadata": {},
   "outputs": [],
   "source": [
    "env_id = 'PointMaze_UMaze-v3'\n",
    "train_episodes = 10000\n",
    "max_episode_steps = 512\n",
    "seed = 0\n",
    "\n",
    "torch.manual_seed(seed); np.random.seed(seed)\n",
    "\n",
    "# Initialize environment\n",
    "c = 'c'; U_map = [\n",
    "    [1, 1, 1, 1, 1],\n",
    "    [1, c, 0, 0, 1],\n",
    "    [1, 1, 1, 0, 1],\n",
    "    [1, c, 0, 0, 1],\n",
    "    [1, 1, 1, 1, 1]\n",
    "]\n",
    "builder = EnvBuilder(env_id=env_id, maze_map=U_map, max_episode_steps=max_episode_steps, seed=seed)\n",
    "obs_dim, act_dim = builder.get_obs_act_dim()"
   ]
  },
  {
   "cell_type": "code",
   "execution_count": 4,
   "id": "25169070",
   "metadata": {},
   "outputs": [],
   "source": [
    "N_envs = 1\n",
    "def make_env(env_id, idx, capture_video, run_name, gamma):\n",
    "    def thunk():\n",
    "        # Set render_mode to 'rgb_array' if capturing video\n",
    "        render_mode = \"rgb_array\" if capture_video and idx == 0 else None\n",
    "        env = gym.make(env_id, render_mode=render_mode)\n",
    "        # env = gym.wrappers.FlattenObservation(env)\n",
    "        env = GoalObservationWrapper(env)\n",
    "        if capture_video and idx == 0:\n",
    "            env = gym.wrappers.RecordVideo(env, f\"videos/{run_name}\")\n",
    "        env = gym.wrappers.RecordEpisodeStatistics(env)\n",
    "        return env\n",
    "    return thunk"
   ]
  },
  {
   "cell_type": "code",
   "execution_count": null,
   "id": "bac6ecac",
   "metadata": {},
   "outputs": [],
   "source": [
    "def train_supervised_distance(\n",
    "        envs,\n",
    "        env,\n",
    "        agent,\n",
    "        distance_model,\n",
    "        *,\n",
    "        num_stage: int = 30,\n",
    "        eval_size: int = 10,\n",
    "        max_episode_steps: int = 350,\n",
    "        d_samples: int = 500000,\n",
    "        en_reward=False,\n",
    "    ):\n",
    "        sup_model = distance_model\n",
    "        for episode in range(num_stage):\n",
    "            agent.train_ppo(envs, use_distance_shaping = en_reward, verbose=False)\n",
    "            trajectories = agent.evaluate_ppo(env, num_episodes=eval_size, max_episode_steps=max_episode_steps)\n",
    "\n",
    "            dataset = trajectories_to_dataset(trajectories, samples=d_samples)\n",
    "            # sup_model = SupervisedDistanceEstimator(input_dim=4)\n",
    "            sup_loss = sup_model.train_from_data(dataset, epochs=20, batch_size=16192)          \n",
    "            print(f\"Finish {episode=}, dd loss = {sup_loss}\\n\")\n"
   ]
  },
  {
   "cell_type": "code",
   "execution_count": 7,
   "id": "804683df",
   "metadata": {},
   "outputs": [],
   "source": [
    "envs = gym.vector.SyncVectorEnv([make_env(env_id, seed, 0, False, \"test\")])\n",
    "env = builder()\n",
    "distance_model = distance_models.SupervisedDistanceEstimator(input_dim=4)"
   ]
  },
  {
   "cell_type": "code",
   "execution_count": 9,
   "id": "4a68feac",
   "metadata": {},
   "outputs": [],
   "source": [
    "EXPERIMENTS = {\n",
    "    # tag      include_distance_state  use_distance_shaping\n",
    "    \"base\"            : (False, False),\n",
    "    \"reward_only\"     : (False, True ),\n",
    "    \"state_only\"      : (True , False),\n",
    "    \"reward_and_state\": (True , True ),\n",
    "}\n"
   ]
  },
  {
   "cell_type": "code",
   "execution_count": null,
   "id": "711d31a6",
   "metadata": {},
   "outputs": [
    {
     "name": "stderr",
     "output_type": "stream",
     "text": [
      "\u001b[34m\u001b[1mwandb\u001b[0m: Currently logged in as: \u001b[33mgamershmidt-sofya\u001b[0m (\u001b[33mgamershmidt-sofya-innopolis-university\u001b[0m) to \u001b[32mhttps://api.wandb.ai\u001b[0m. Use \u001b[1m`wandb login --relogin`\u001b[0m to force relogin\n",
      "/home/user7/.venv/lib/python3.10/site-packages/wandb/analytics/sentry.py:258: DeprecationWarning: The `Scope.user` setter is deprecated in favor of `Scope.set_user()`.\n",
      "  self.scope.user = {\"email\": email}\n",
      "/home/user7/.venv/lib/python3.10/site-packages/wandb/analytics/sentry.py:258: DeprecationWarning: The `Scope.user` setter is deprecated in favor of `Scope.set_user()`.\n",
      "  self.scope.user = {\"email\": email}\n"
     ]
    },
    {
     "data": {
      "text/html": [
       "Tracking run with wandb version 0.21.0"
      ],
      "text/plain": [
       "<IPython.core.display.HTML object>"
      ]
     },
     "metadata": {},
     "output_type": "display_data"
    },
    {
     "data": {
      "text/html": [
       "Run data is saved locally in <code>/home/user7/artem_ws/artem_ws/src/wandb/run-20250710_040558-r9zvlr0p</code>"
      ],
      "text/plain": [
       "<IPython.core.display.HTML object>"
      ]
     },
     "metadata": {},
     "output_type": "display_data"
    },
    {
     "data": {
      "text/html": [
       "Syncing run <strong><a href='https://wandb.ai/gamershmidt-sofya-innopolis-university/ppo_airi/runs/r9zvlr0p' target=\"_blank\">ppo_1752109558</a></strong> to <a href='https://wandb.ai/gamershmidt-sofya-innopolis-university/ppo_airi' target=\"_blank\">Weights & Biases</a> (<a href='https://wandb.me/developer-guide' target=\"_blank\">docs</a>)<br>"
      ],
      "text/plain": [
       "<IPython.core.display.HTML object>"
      ]
     },
     "metadata": {},
     "output_type": "display_data"
    },
    {
     "data": {
      "text/html": [
       " View project at <a href='https://wandb.ai/gamershmidt-sofya-innopolis-university/ppo_airi' target=\"_blank\">https://wandb.ai/gamershmidt-sofya-innopolis-university/ppo_airi</a>"
      ],
      "text/plain": [
       "<IPython.core.display.HTML object>"
      ]
     },
     "metadata": {},
     "output_type": "display_data"
    },
    {
     "data": {
      "text/html": [
       " View run at <a href='https://wandb.ai/gamershmidt-sofya-innopolis-university/ppo_airi/runs/r9zvlr0p' target=\"_blank\">https://wandb.ai/gamershmidt-sofya-innopolis-university/ppo_airi/runs/r9zvlr0p</a>"
      ],
      "text/plain": [
       "<IPython.core.display.HTML object>"
      ]
     },
     "metadata": {},
     "output_type": "display_data"
    },
    {
     "name": "stdout",
     "output_type": "stream",
     "text": [
      "global_step=300, episodic_return=[0.]\n",
      "global_step=600, episodic_return=[160.]\n",
      "global_step=900, episodic_return=[0.]\n",
      "global_step=1200, episodic_return=[0.]\n",
      "global_step=1500, episodic_return=[204.]\n",
      "global_step=1800, episodic_return=[51.]\n",
      "global_step=2100, episodic_return=[182.]\n",
      "global_step=2400, episodic_return=[0.]\n",
      "global_step=2700, episodic_return=[0.]\n",
      "global_step=3000, episodic_return=[0.]\n",
      "global_step=3300, episodic_return=[0.]\n",
      "global_step=3600, episodic_return=[0.]\n",
      "global_step=3900, episodic_return=[0.]\n",
      "global_step=4200, episodic_return=[0.]\n",
      "global_step=4500, episodic_return=[0.]\n",
      "global_step=4800, episodic_return=[0.]\n",
      "global_step=5100, episodic_return=[0.]\n",
      "global_step=5400, episodic_return=[0.]\n",
      "global_step=5700, episodic_return=[0.]\n",
      "global_step=6000, episodic_return=[0.]\n",
      "global_step=6300, episodic_return=[0.]\n",
      "global_step=6600, episodic_return=[101.]\n",
      "global_step=6900, episodic_return=[0.]\n",
      "global_step=7200, episodic_return=[0.]\n",
      "global_step=7500, episodic_return=[0.]\n",
      "global_step=7800, episodic_return=[81.]\n",
      "global_step=8100, episodic_return=[0.]\n"
     ]
    },
    {
     "name": "stderr",
     "output_type": "stream",
     "text": [
      "Evaluating: 100%|███████████████████████████████████████████████████| 10/10 [00:04<00:00,  2.05it/s]\n"
     ]
    },
    {
     "name": "stdout",
     "output_type": "stream",
     "text": [
      "Success rate: 0.00%, avg_return: 0.00\n"
     ]
    },
    {
     "name": "stderr",
     "output_type": "stream",
     "text": [
      "Building dataset: 100%|████████████████████████████████████████████| 10/10 [00:00<00:00, 274.46it/s]\n"
     ]
    },
    {
     "name": "stdout",
     "output_type": "stream",
     "text": [
      "Trajectories processed : 10\n",
      "Generated samples      : 451500 (train 361200 / eval 90300)\n"
     ]
    },
    {
     "name": "stderr",
     "output_type": "stream",
     "text": [
      "Training, t_loss=0.00:   0%|                                                 | 0/20 [00:00<?, ?it/s]\u001b[34m\u001b[1mwandb\u001b[0m: \u001b[33mWARNING\u001b[0m Step cannot be set when using tensorboard syncing. Please use `run.define_metric(...)` to define a custom metric to log your step values.\n",
      "Training, t_loss=0.00: 100%|████████████████████████████████████████| 20/20 [00:01<00:00, 18.60it/s]\n"
     ]
    },
    {
     "name": "stdout",
     "output_type": "stream",
     "text": [
      "eval_losses[0]=0.3718803316202935 -> eval_losses[-1]=0.07946629656245674\n",
      "Finish episode=0, dd loss = 0.07106221467256546\n"
     ]
    },
    {
     "name": "stderr",
     "output_type": "stream",
     "text": [
      "Evaluating: 100%|███████████████████████████████████████████████████| 10/10 [00:04<00:00,  2.03it/s]\n"
     ]
    },
    {
     "name": "stdout",
     "output_type": "stream",
     "text": [
      "Success rate: 0.00%, avg_return: 0.00\n"
     ]
    },
    {
     "name": "stderr",
     "output_type": "stream",
     "text": [
      "Building dataset: 100%|████████████████████████████████████████████| 10/10 [00:00<00:00, 418.63it/s]\n"
     ]
    },
    {
     "name": "stdout",
     "output_type": "stream",
     "text": [
      "Trajectories processed : 10\n",
      "Generated samples      : 451500 (train 361200 / eval 90300)\n"
     ]
    },
    {
     "name": "stderr",
     "output_type": "stream",
     "text": [
      "Training, t_loss=0.00: 100%|████████████████████████████████████████| 20/20 [00:01<00:00, 19.63it/s]\n"
     ]
    },
    {
     "name": "stdout",
     "output_type": "stream",
     "text": [
      "eval_losses[0]=0.0746437669249204 -> eval_losses[-1]=0.06212455301717798\n",
      "Finish episode=1, dd loss = 0.05749207362532616\n"
     ]
    },
    {
     "name": "stderr",
     "output_type": "stream",
     "text": [
      "Evaluating: 100%|███████████████████████████████████████████████████| 10/10 [00:04<00:00,  2.00it/s]\n"
     ]
    },
    {
     "name": "stdout",
     "output_type": "stream",
     "text": [
      "Success rate: 0.00%, avg_return: 0.00\n"
     ]
    },
    {
     "name": "stderr",
     "output_type": "stream",
     "text": [
      "Building dataset: 100%|████████████████████████████████████████████| 10/10 [00:00<00:00, 503.31it/s]\n"
     ]
    },
    {
     "name": "stdout",
     "output_type": "stream",
     "text": [
      "Trajectories processed : 10\n",
      "Generated samples      : 451500 (train 361200 / eval 90300)\n"
     ]
    },
    {
     "name": "stderr",
     "output_type": "stream",
     "text": [
      "Training, t_loss=0.00: 100%|████████████████████████████████████████| 20/20 [00:00<00:00, 20.32it/s]\n"
     ]
    },
    {
     "name": "stdout",
     "output_type": "stream",
     "text": [
      "eval_losses[0]=0.042869137313014775 -> eval_losses[-1]=0.03761533008461379\n",
      "Finish episode=2, dd loss = 0.034445133060216904\n"
     ]
    },
    {
     "name": "stderr",
     "output_type": "stream",
     "text": [
      "Evaluating: 100%|███████████████████████████████████████████████████| 10/10 [00:05<00:00,  1.81it/s]\n"
     ]
    },
    {
     "name": "stdout",
     "output_type": "stream",
     "text": [
      "Success rate: 0.00%, avg_return: 0.00\n"
     ]
    },
    {
     "name": "stderr",
     "output_type": "stream",
     "text": [
      "Building dataset: 100%|████████████████████████████████████████████| 10/10 [00:00<00:00, 510.43it/s]\n"
     ]
    },
    {
     "name": "stdout",
     "output_type": "stream",
     "text": [
      "Trajectories processed : 10\n",
      "Generated samples      : 451500 (train 361200 / eval 90300)\n"
     ]
    },
    {
     "name": "stderr",
     "output_type": "stream",
     "text": [
      "Training, t_loss=0.00: 100%|████████████████████████████████████████| 20/20 [00:00<00:00, 20.95it/s]\n"
     ]
    },
    {
     "name": "stdout",
     "output_type": "stream",
     "text": [
      "eval_losses[0]=0.0383838644270617 -> eval_losses[-1]=0.03372971307663691\n",
      "Finish episode=3, dd loss = 0.031578224152326584\n"
     ]
    },
    {
     "name": "stderr",
     "output_type": "stream",
     "text": [
      "Evaluating: 100%|███████████████████████████████████████████████████| 10/10 [00:04<00:00,  2.03it/s]\n"
     ]
    },
    {
     "name": "stdout",
     "output_type": "stream",
     "text": [
      "Success rate: 0.00%, avg_return: 0.00\n"
     ]
    },
    {
     "name": "stderr",
     "output_type": "stream",
     "text": [
      "Building dataset: 100%|████████████████████████████████████████████| 10/10 [00:00<00:00, 500.78it/s]\n"
     ]
    },
    {
     "name": "stdout",
     "output_type": "stream",
     "text": [
      "Trajectories processed : 10\n",
      "Generated samples      : 451500 (train 361200 / eval 90300)\n"
     ]
    },
    {
     "name": "stderr",
     "output_type": "stream",
     "text": [
      "Training, t_loss=0.00: 100%|████████████████████████████████████████| 20/20 [00:00<00:00, 20.12it/s]\n"
     ]
    },
    {
     "name": "stdout",
     "output_type": "stream",
     "text": [
      "eval_losses[0]=0.03042157093947908 -> eval_losses[-1]=0.02448841352663431\n",
      "Finish episode=4, dd loss = 0.022594427689909935\n"
     ]
    },
    {
     "name": "stderr",
     "output_type": "stream",
     "text": [
      "Evaluating: 100%|███████████████████████████████████████████████████| 10/10 [00:05<00:00,  1.96it/s]\n"
     ]
    },
    {
     "name": "stdout",
     "output_type": "stream",
     "text": [
      "Success rate: 0.00%, avg_return: 0.00\n"
     ]
    },
    {
     "name": "stderr",
     "output_type": "stream",
     "text": [
      "Building dataset: 100%|████████████████████████████████████████████| 10/10 [00:00<00:00, 505.50it/s]\n"
     ]
    },
    {
     "name": "stdout",
     "output_type": "stream",
     "text": [
      "Trajectories processed : 10\n",
      "Generated samples      : 451500 (train 361200 / eval 90300)\n"
     ]
    },
    {
     "name": "stderr",
     "output_type": "stream",
     "text": [
      "Training, t_loss=0.00: 100%|████████████████████████████████████████| 20/20 [00:01<00:00, 19.92it/s]\n"
     ]
    },
    {
     "name": "stdout",
     "output_type": "stream",
     "text": [
      "eval_losses[0]=0.029620630004477264 -> eval_losses[-1]=0.022169470971868943\n",
      "Finish episode=5, dd loss = 0.020699800923466682\n"
     ]
    },
    {
     "name": "stderr",
     "output_type": "stream",
     "text": [
      "Evaluating: 100%|███████████████████████████████████████████████████| 10/10 [00:05<00:00,  1.99it/s]\n"
     ]
    },
    {
     "name": "stdout",
     "output_type": "stream",
     "text": [
      "Success rate: 0.00%, avg_return: 0.00\n"
     ]
    },
    {
     "name": "stderr",
     "output_type": "stream",
     "text": [
      "Building dataset: 100%|████████████████████████████████████████████| 10/10 [00:00<00:00, 496.23it/s]\n"
     ]
    },
    {
     "name": "stdout",
     "output_type": "stream",
     "text": [
      "Trajectories processed : 10\n",
      "Generated samples      : 451500 (train 361200 / eval 90300)\n"
     ]
    },
    {
     "name": "stderr",
     "output_type": "stream",
     "text": [
      "Training, t_loss=0.00: 100%|████████████████████████████████████████| 20/20 [00:01<00:00, 19.30it/s]\n"
     ]
    },
    {
     "name": "stdout",
     "output_type": "stream",
     "text": [
      "eval_losses[0]=0.028929265593637527 -> eval_losses[-1]=0.022073405826606624\n",
      "Finish episode=6, dd loss = 0.019993510097265244\n"
     ]
    },
    {
     "name": "stderr",
     "output_type": "stream",
     "text": [
      "Evaluating: 100%|███████████████████████████████████████████████████| 10/10 [00:04<00:00,  2.01it/s]\n"
     ]
    },
    {
     "name": "stdout",
     "output_type": "stream",
     "text": [
      "Success rate: 0.00%, avg_return: 0.00\n"
     ]
    },
    {
     "name": "stderr",
     "output_type": "stream",
     "text": [
      "Building dataset: 100%|████████████████████████████████████████████| 10/10 [00:00<00:00, 360.24it/s]\n"
     ]
    },
    {
     "name": "stdout",
     "output_type": "stream",
     "text": [
      "Trajectories processed : 10\n",
      "Generated samples      : 451500 (train 361200 / eval 90300)\n"
     ]
    },
    {
     "name": "stderr",
     "output_type": "stream",
     "text": [
      "Training, t_loss=0.00: 100%|████████████████████████████████████████| 20/20 [00:00<00:00, 20.63it/s]\n"
     ]
    },
    {
     "name": "stdout",
     "output_type": "stream",
     "text": [
      "eval_losses[0]=0.020086848194548985 -> eval_losses[-1]=0.015609236809106364\n",
      "Finish episode=7, dd loss = 0.014478659257292747\n"
     ]
    },
    {
     "name": "stderr",
     "output_type": "stream",
     "text": [
      "Evaluating: 100%|███████████████████████████████████████████████████| 10/10 [00:05<00:00,  1.95it/s]\n"
     ]
    },
    {
     "name": "stdout",
     "output_type": "stream",
     "text": [
      "Success rate: 30.00%, avg_return: 105.00\n"
     ]
    },
    {
     "name": "stderr",
     "output_type": "stream",
     "text": [
      "Building dataset: 100%|████████████████████████████████████████████| 10/10 [00:00<00:00, 532.62it/s]\n"
     ]
    },
    {
     "name": "stdout",
     "output_type": "stream",
     "text": [
      "Trajectories processed : 10\n",
      "Generated samples      : 409644 (train 327715 / eval 81929)\n"
     ]
    },
    {
     "name": "stderr",
     "output_type": "stream",
     "text": [
      "Training, t_loss=0.00: 100%|████████████████████████████████████████| 20/20 [00:00<00:00, 21.81it/s]\n"
     ]
    },
    {
     "name": "stdout",
     "output_type": "stream",
     "text": [
      "eval_losses[0]=0.023528402556384092 -> eval_losses[-1]=0.01073737439492436\n",
      "Finish episode=8, dd loss = 0.010490969754755497\n"
     ]
    },
    {
     "name": "stderr",
     "output_type": "stream",
     "text": [
      "Evaluating: 100%|███████████████████████████████████████████████████| 10/10 [00:04<00:00,  2.10it/s]\n"
     ]
    },
    {
     "name": "stdout",
     "output_type": "stream",
     "text": [
      "Success rate: 20.00%, avg_return: 102.50\n"
     ]
    },
    {
     "name": "stderr",
     "output_type": "stream",
     "text": [
      "Building dataset: 100%|████████████████████████████████████████████| 10/10 [00:00<00:00, 528.22it/s]\n"
     ]
    },
    {
     "name": "stdout",
     "output_type": "stream",
     "text": [
      "Trajectories processed : 10\n",
      "Generated samples      : 424071 (train 339256 / eval 84815)\n"
     ]
    },
    {
     "name": "stderr",
     "output_type": "stream",
     "text": [
      "Training, t_loss=0.00: 100%|████████████████████████████████████████| 20/20 [00:00<00:00, 22.68it/s]\n"
     ]
    },
    {
     "name": "stdout",
     "output_type": "stream",
     "text": [
      "eval_losses[0]=0.007001346893301552 -> eval_losses[-1]=0.005007694844598584\n",
      "Finish episode=9, dd loss = 0.004652036819607019\n"
     ]
    },
    {
     "name": "stderr",
     "output_type": "stream",
     "text": [
      "Evaluating: 100%|███████████████████████████████████████████████████| 10/10 [00:04<00:00,  2.01it/s]\n"
     ]
    },
    {
     "name": "stdout",
     "output_type": "stream",
     "text": [
      "Success rate: 30.00%, avg_return: 65.00\n"
     ]
    },
    {
     "name": "stderr",
     "output_type": "stream",
     "text": [
      "Building dataset: 100%|████████████████████████████████████████████| 10/10 [00:00<00:00, 527.82it/s]\n"
     ]
    },
    {
     "name": "stdout",
     "output_type": "stream",
     "text": [
      "Trajectories processed : 10\n",
      "Generated samples      : 439225 (train 351380 / eval 87845)\n"
     ]
    },
    {
     "name": "stderr",
     "output_type": "stream",
     "text": [
      "Training, t_loss=0.00: 100%|████████████████████████████████████████| 20/20 [00:00<00:00, 21.56it/s]\n"
     ]
    },
    {
     "name": "stdout",
     "output_type": "stream",
     "text": [
      "eval_losses[0]=0.0058212797903256005 -> eval_losses[-1]=0.004437007423117312\n",
      "Finish episode=10, dd loss = 0.004307310562580824\n"
     ]
    },
    {
     "name": "stderr",
     "output_type": "stream",
     "text": [
      "Evaluating: 100%|███████████████████████████████████████████████████| 10/10 [00:04<00:00,  2.04it/s]\n"
     ]
    },
    {
     "name": "stdout",
     "output_type": "stream",
     "text": [
      "Success rate: 10.00%, avg_return: 94.00\n"
     ]
    },
    {
     "name": "stderr",
     "output_type": "stream",
     "text": [
      "Building dataset: 100%|████████████████████████████████████████████| 10/10 [00:00<00:00, 524.82it/s]\n"
     ]
    },
    {
     "name": "stdout",
     "output_type": "stream",
     "text": [
      "Trajectories processed : 10\n",
      "Generated samples      : 439503 (train 351602 / eval 87901)\n"
     ]
    },
    {
     "name": "stderr",
     "output_type": "stream",
     "text": [
      "Training, t_loss=0.00: 100%|████████████████████████████████████████| 20/20 [00:00<00:00, 21.51it/s]\n"
     ]
    },
    {
     "name": "stdout",
     "output_type": "stream",
     "text": [
      "eval_losses[0]=0.0040282199988206395 -> eval_losses[-1]=0.0033310570042404107\n",
      "Finish episode=11, dd loss = 0.0032027163542807102\n"
     ]
    },
    {
     "name": "stderr",
     "output_type": "stream",
     "text": [
      "Evaluating: 100%|███████████████████████████████████████████████████| 10/10 [00:05<00:00,  1.99it/s]\n"
     ]
    },
    {
     "name": "stdout",
     "output_type": "stream",
     "text": [
      "Success rate: 40.00%, avg_return: 61.00\n"
     ]
    },
    {
     "name": "stderr",
     "output_type": "stream",
     "text": [
      "Building dataset: 100%|████████████████████████████████████████████| 10/10 [00:00<00:00, 483.84it/s]\n"
     ]
    },
    {
     "name": "stdout",
     "output_type": "stream",
     "text": [
      "Trajectories processed : 10\n",
      "Generated samples      : 439743 (train 351794 / eval 87949)\n"
     ]
    },
    {
     "name": "stderr",
     "output_type": "stream",
     "text": [
      "Training, t_loss=0.00: 100%|████████████████████████████████████████| 20/20 [00:00<00:00, 21.43it/s]\n"
     ]
    },
    {
     "name": "stdout",
     "output_type": "stream",
     "text": [
      "eval_losses[0]=0.004540518446534333 -> eval_losses[-1]=0.00405625442855171\n",
      "Finish episode=12, dd loss = 0.004008608870208263\n"
     ]
    },
    {
     "name": "stderr",
     "output_type": "stream",
     "text": [
      "Evaluating: 100%|███████████████████████████████████████████████████| 10/10 [00:05<00:00,  1.98it/s]\n"
     ]
    },
    {
     "name": "stdout",
     "output_type": "stream",
     "text": [
      "Success rate: 20.00%, avg_return: 117.50\n"
     ]
    },
    {
     "name": "stderr",
     "output_type": "stream",
     "text": [
      "Building dataset: 100%|████████████████████████████████████████████| 10/10 [00:00<00:00, 540.96it/s]\n"
     ]
    },
    {
     "name": "stdout",
     "output_type": "stream",
     "text": [
      "Trajectories processed : 10\n",
      "Generated samples      : 416948 (train 333558 / eval 83390)\n"
     ]
    },
    {
     "name": "stderr",
     "output_type": "stream",
     "text": [
      "Training, t_loss=0.00: 100%|████████████████████████████████████████| 20/20 [00:00<00:00, 21.72it/s]\n"
     ]
    },
    {
     "name": "stdout",
     "output_type": "stream",
     "text": [
      "eval_losses[0]=0.002651153186597274 -> eval_losses[-1]=0.0016656871150188672\n",
      "Finish episode=13, dd loss = 0.0015186162199825048\n"
     ]
    },
    {
     "name": "stderr",
     "output_type": "stream",
     "text": [
      "Evaluating: 100%|███████████████████████████████████████████████████| 10/10 [00:04<00:00,  2.44it/s]\n"
     ]
    },
    {
     "name": "stdout",
     "output_type": "stream",
     "text": [
      "Success rate: 70.00%, avg_return: 124.86\n"
     ]
    },
    {
     "name": "stderr",
     "output_type": "stream",
     "text": [
      "Building dataset: 100%|████████████████████████████████████████████| 10/10 [00:00<00:00, 686.15it/s]\n"
     ]
    },
    {
     "name": "stdout",
     "output_type": "stream",
     "text": [
      "Trajectories processed : 10\n",
      "Generated samples      : 316366 (train 253092 / eval 63274)\n"
     ]
    },
    {
     "name": "stderr",
     "output_type": "stream",
     "text": [
      "Training, t_loss=0.00: 100%|████████████████████████████████████████| 20/20 [00:00<00:00, 29.15it/s]\n"
     ]
    },
    {
     "name": "stdout",
     "output_type": "stream",
     "text": [
      "eval_losses[0]=0.0022719071216392136 -> eval_losses[-1]=0.001257354896575072\n",
      "Finish episode=14, dd loss = 0.0012094221310690045\n"
     ]
    },
    {
     "name": "stderr",
     "output_type": "stream",
     "text": [
      "Evaluating: 100%|███████████████████████████████████████████████████| 10/10 [00:04<00:00,  2.40it/s]\n"
     ]
    },
    {
     "name": "stdout",
     "output_type": "stream",
     "text": [
      "Success rate: 70.00%, avg_return: 126.29\n"
     ]
    },
    {
     "name": "stderr",
     "output_type": "stream",
     "text": [
      "Building dataset: 100%|████████████████████████████████████████████| 10/10 [00:00<00:00, 592.47it/s]\n"
     ]
    },
    {
     "name": "stdout",
     "output_type": "stream",
     "text": [
      "Trajectories processed : 10\n",
      "Generated samples      : 314313 (train 251450 / eval 62863)\n"
     ]
    },
    {
     "name": "stderr",
     "output_type": "stream",
     "text": [
      "Training, t_loss=0.00: 100%|████████████████████████████████████████| 20/20 [00:00<00:00, 28.83it/s]\n"
     ]
    },
    {
     "name": "stdout",
     "output_type": "stream",
     "text": [
      "eval_losses[0]=0.0011931936647158383 -> eval_losses[-1]=0.0009099220058756166\n",
      "Finish episode=15, dd loss = 0.0008708694949746132\n"
     ]
    },
    {
     "name": "stderr",
     "output_type": "stream",
     "text": [
      "Evaluating: 100%|███████████████████████████████████████████████████| 10/10 [00:04<00:00,  2.26it/s]\n"
     ]
    },
    {
     "name": "stdout",
     "output_type": "stream",
     "text": [
      "Success rate: 30.00%, avg_return: 159.67\n"
     ]
    },
    {
     "name": "stderr",
     "output_type": "stream",
     "text": [
      "Building dataset: 100%|████████████████████████████████████████████| 10/10 [00:00<00:00, 587.64it/s]\n"
     ]
    },
    {
     "name": "stdout",
     "output_type": "stream",
     "text": [
      "Trajectories processed : 10\n",
      "Generated samples      : 371462 (train 297169 / eval 74293)\n"
     ]
    },
    {
     "name": "stderr",
     "output_type": "stream",
     "text": [
      "Training, t_loss=0.00: 100%|████████████████████████████████████████| 20/20 [00:00<00:00, 23.72it/s]\n"
     ]
    },
    {
     "name": "stdout",
     "output_type": "stream",
     "text": [
      "eval_losses[0]=0.005850524017127366 -> eval_losses[-1]=0.0008857420524069427\n",
      "Finish episode=16, dd loss = 0.0007908001425676048\n"
     ]
    },
    {
     "name": "stderr",
     "output_type": "stream",
     "text": [
      "Evaluating: 100%|███████████████████████████████████████████████████| 10/10 [00:04<00:00,  2.06it/s]\n"
     ]
    },
    {
     "name": "stdout",
     "output_type": "stream",
     "text": [
      "Success rate: 10.00%, avg_return: 178.00\n"
     ]
    },
    {
     "name": "stderr",
     "output_type": "stream",
     "text": [
      "Building dataset: 100%|████████████████████████████████████████████| 10/10 [00:00<00:00, 527.70it/s]\n"
     ]
    },
    {
     "name": "stdout",
     "output_type": "stream",
     "text": [
      "Trajectories processed : 10\n",
      "Generated samples      : 421401 (train 337120 / eval 84281)\n"
     ]
    },
    {
     "name": "stderr",
     "output_type": "stream",
     "text": [
      "Training, t_loss=0.00: 100%|████████████████████████████████████████| 20/20 [00:00<00:00, 20.76it/s]\n"
     ]
    },
    {
     "name": "stdout",
     "output_type": "stream",
     "text": [
      "eval_losses[0]=0.0007001811744799565 -> eval_losses[-1]=0.00020604152219811286\n",
      "Finish episode=17, dd loss = 0.00019243631686549634\n"
     ]
    },
    {
     "name": "stderr",
     "output_type": "stream",
     "text": [
      "Evaluating: 100%|███████████████████████████████████████████████████| 10/10 [00:04<00:00,  2.21it/s]\n"
     ]
    },
    {
     "name": "stdout",
     "output_type": "stream",
     "text": [
      "Success rate: 30.00%, avg_return: 172.00\n"
     ]
    },
    {
     "name": "stderr",
     "output_type": "stream",
     "text": [
      "Building dataset: 100%|████████████████████████████████████████████| 10/10 [00:00<00:00, 610.74it/s]\n"
     ]
    },
    {
     "name": "stdout",
     "output_type": "stream",
     "text": [
      "Trajectories processed : 10\n",
      "Generated samples      : 364855 (train 291884 / eval 72971)\n"
     ]
    },
    {
     "name": "stderr",
     "output_type": "stream",
     "text": [
      "Training, t_loss=0.00: 100%|████████████████████████████████████████| 20/20 [00:00<00:00, 23.62it/s]\n"
     ]
    },
    {
     "name": "stdout",
     "output_type": "stream",
     "text": [
      "eval_losses[0]=0.0012402422939039727 -> eval_losses[-1]=0.0007407876549358341\n",
      "Finish episode=18, dd loss = 0.0007227618480101228\n"
     ]
    },
    {
     "name": "stderr",
     "output_type": "stream",
     "text": [
      "Evaluating: 100%|███████████████████████████████████████████████████| 10/10 [00:04<00:00,  2.35it/s]\n"
     ]
    },
    {
     "name": "stdout",
     "output_type": "stream",
     "text": [
      "Success rate: 40.00%, avg_return: 166.75\n"
     ]
    },
    {
     "name": "stderr",
     "output_type": "stream",
     "text": [
      "Building dataset: 100%|████████████████████████████████████████████| 10/10 [00:00<00:00, 653.23it/s]\n"
     ]
    },
    {
     "name": "stdout",
     "output_type": "stream",
     "text": [
      "Trajectories processed : 10\n",
      "Generated samples      : 339427 (train 271541 / eval 67886)\n"
     ]
    },
    {
     "name": "stderr",
     "output_type": "stream",
     "text": [
      "Training, t_loss=0.00: 100%|████████████████████████████████████████| 20/20 [00:00<00:00, 26.52it/s]\n"
     ]
    },
    {
     "name": "stdout",
     "output_type": "stream",
     "text": [
      "eval_losses[0]=0.00044416101849205917 -> eval_losses[-1]=0.0002909228063004084\n",
      "Finish episode=19, dd loss = 0.00026880885707214475\n"
     ]
    },
    {
     "name": "stderr",
     "output_type": "stream",
     "text": [
      "Evaluating: 100%|███████████████████████████████████████████████████| 10/10 [00:04<00:00,  2.36it/s]\n"
     ]
    },
    {
     "name": "stdout",
     "output_type": "stream",
     "text": [
      "Success rate: 40.00%, avg_return: 158.75\n"
     ]
    },
    {
     "name": "stderr",
     "output_type": "stream",
     "text": [
      "Building dataset: 100%|████████████████████████████████████████████| 10/10 [00:00<00:00, 633.94it/s]\n"
     ]
    },
    {
     "name": "stdout",
     "output_type": "stream",
     "text": [
      "Trajectories processed : 10\n",
      "Generated samples      : 345767 (train 276613 / eval 69154)\n"
     ]
    },
    {
     "name": "stderr",
     "output_type": "stream",
     "text": [
      "Training, t_loss=0.00: 100%|████████████████████████████████████████| 20/20 [00:00<00:00, 25.80it/s]\n"
     ]
    },
    {
     "name": "stdout",
     "output_type": "stream",
     "text": [
      "eval_losses[0]=0.0005806960340253247 -> eval_losses[-1]=0.0004388181484121024\n",
      "Finish episode=20, dd loss = 0.00039990231744013727\n"
     ]
    },
    {
     "name": "stderr",
     "output_type": "stream",
     "text": [
      "Evaluating: 100%|███████████████████████████████████████████████████| 10/10 [00:04<00:00,  2.32it/s]\n"
     ]
    },
    {
     "name": "stdout",
     "output_type": "stream",
     "text": [
      "Success rate: 40.00%, avg_return: 168.50\n"
     ]
    },
    {
     "name": "stderr",
     "output_type": "stream",
     "text": [
      "Building dataset: 100%|████████████████████████████████████████████| 10/10 [00:00<00:00, 651.01it/s]\n"
     ]
    },
    {
     "name": "stdout",
     "output_type": "stream",
     "text": [
      "Trajectories processed : 10\n",
      "Generated samples      : 338007 (train 270405 / eval 67602)\n"
     ]
    },
    {
     "name": "stderr",
     "output_type": "stream",
     "text": [
      "Training, t_loss=0.00: 100%|████████████████████████████████████████| 20/20 [00:00<00:00, 25.95it/s]\n"
     ]
    },
    {
     "name": "stdout",
     "output_type": "stream",
     "text": [
      "eval_losses[0]=0.0005130774276305443 -> eval_losses[-1]=0.0003709976942785174\n",
      "Finish episode=21, dd loss = 0.0003397638211026788\n"
     ]
    },
    {
     "name": "stderr",
     "output_type": "stream",
     "text": [
      "Evaluating: 100%|███████████████████████████████████████████████████| 10/10 [00:04<00:00,  2.20it/s]\n"
     ]
    },
    {
     "name": "stdout",
     "output_type": "stream",
     "text": [
      "Success rate: 40.00%, avg_return: 159.25\n"
     ]
    },
    {
     "name": "stderr",
     "output_type": "stream",
     "text": [
      "Building dataset: 100%|████████████████████████████████████████████| 10/10 [00:00<00:00, 640.53it/s]\n"
     ]
    },
    {
     "name": "stdout",
     "output_type": "stream",
     "text": [
      "Trajectories processed : 10\n",
      "Generated samples      : 344841 (train 275872 / eval 68969)\n"
     ]
    },
    {
     "name": "stderr",
     "output_type": "stream",
     "text": [
      "Training, t_loss=0.00: 100%|████████████████████████████████████████| 20/20 [00:00<00:00, 25.85it/s]\n"
     ]
    },
    {
     "name": "stdout",
     "output_type": "stream",
     "text": [
      "eval_losses[0]=0.0008549840552368969 -> eval_losses[-1]=0.0006325208364186166\n",
      "Finish episode=22, dd loss = 0.0005826194537803531\n"
     ]
    },
    {
     "name": "stderr",
     "output_type": "stream",
     "text": [
      "Evaluating: 100%|███████████████████████████████████████████████████| 10/10 [00:04<00:00,  2.20it/s]\n"
     ]
    },
    {
     "name": "stdout",
     "output_type": "stream",
     "text": [
      "Success rate: 20.00%, avg_return: 167.50\n"
     ]
    },
    {
     "name": "stderr",
     "output_type": "stream",
     "text": [
      "Building dataset: 100%|████████████████████████████████████████████| 10/10 [00:00<00:00, 476.43it/s]\n"
     ]
    },
    {
     "name": "stdout",
     "output_type": "stream",
     "text": [
      "Trajectories processed : 10\n",
      "Generated samples      : 395068 (train 316054 / eval 79014)\n"
     ]
    },
    {
     "name": "stderr",
     "output_type": "stream",
     "text": [
      "Training, t_loss=0.00: 100%|████████████████████████████████████████| 20/20 [00:00<00:00, 22.89it/s]\n"
     ]
    },
    {
     "name": "stdout",
     "output_type": "stream",
     "text": [
      "eval_losses[0]=0.0012178453125877514 -> eval_losses[-1]=0.0002623029615394642\n",
      "Finish episode=23, dd loss = 0.00025805109180510044\n"
     ]
    },
    {
     "name": "stderr",
     "output_type": "stream",
     "text": [
      "Evaluating: 100%|███████████████████████████████████████████████████| 10/10 [00:04<00:00,  2.30it/s]\n"
     ]
    },
    {
     "name": "stdout",
     "output_type": "stream",
     "text": [
      "Success rate: 30.00%, avg_return: 176.67\n"
     ]
    },
    {
     "name": "stderr",
     "output_type": "stream",
     "text": [
      "Building dataset: 100%|████████████████████████████████████████████| 10/10 [00:00<00:00, 601.96it/s]\n"
     ]
    },
    {
     "name": "stdout",
     "output_type": "stream",
     "text": [
      "Trajectories processed : 10\n",
      "Generated samples      : 362165 (train 289732 / eval 72433)\n"
     ]
    },
    {
     "name": "stderr",
     "output_type": "stream",
     "text": [
      "Training, t_loss=0.00: 100%|████████████████████████████████████████| 20/20 [00:00<00:00, 26.06it/s]\n"
     ]
    },
    {
     "name": "stdout",
     "output_type": "stream",
     "text": [
      "eval_losses[0]=0.0004496271741626728 -> eval_losses[-1]=0.00027742653864212396\n",
      "Finish episode=24, dd loss = 0.00026451831217855215\n"
     ]
    },
    {
     "name": "stderr",
     "output_type": "stream",
     "text": [
      "Evaluating: 100%|███████████████████████████████████████████████████| 10/10 [00:03<00:00,  2.57it/s]\n"
     ]
    },
    {
     "name": "stdout",
     "output_type": "stream",
     "text": [
      "Success rate: 50.00%, avg_return: 178.20\n"
     ]
    },
    {
     "name": "stderr",
     "output_type": "stream",
     "text": [
      "Building dataset: 100%|████████████████████████████████████████████| 10/10 [00:00<00:00, 714.96it/s]\n"
     ]
    },
    {
     "name": "stdout",
     "output_type": "stream",
     "text": [
      "Trajectories processed : 10\n",
      "Generated samples      : 300965 (train 240772 / eval 60193)\n"
     ]
    },
    {
     "name": "stderr",
     "output_type": "stream",
     "text": [
      "Training, t_loss=0.00: 100%|████████████████████████████████████████| 20/20 [00:00<00:00, 30.13it/s]\n"
     ]
    },
    {
     "name": "stdout",
     "output_type": "stream",
     "text": [
      "eval_losses[0]=0.0003684925953405888 -> eval_losses[-1]=0.0002564238339032273\n",
      "Finish episode=25, dd loss = 0.00023880648950580508\n"
     ]
    },
    {
     "name": "stderr",
     "output_type": "stream",
     "text": [
      "Evaluating: 100%|███████████████████████████████████████████████████| 10/10 [00:04<00:00,  2.37it/s]\n"
     ]
    },
    {
     "name": "stdout",
     "output_type": "stream",
     "text": [
      "Success rate: 40.00%, avg_return: 164.25\n"
     ]
    },
    {
     "name": "stderr",
     "output_type": "stream",
     "text": [
      "Building dataset: 100%|████████████████████████████████████████████| 10/10 [00:00<00:00, 368.16it/s]\n"
     ]
    },
    {
     "name": "stdout",
     "output_type": "stream",
     "text": [
      "Trajectories processed : 10\n",
      "Generated samples      : 341272 (train 273017 / eval 68255)\n"
     ]
    },
    {
     "name": "stderr",
     "output_type": "stream",
     "text": [
      "Training, t_loss=0.00: 100%|████████████████████████████████████████| 20/20 [00:00<00:00, 26.93it/s]\n"
     ]
    },
    {
     "name": "stdout",
     "output_type": "stream",
     "text": [
      "eval_losses[0]=0.001771823457462623 -> eval_losses[-1]=0.0004764316702192934\n",
      "Finish episode=26, dd loss = 0.00044820268522016704\n"
     ]
    }
   ],
   "source": [
    "en_state, en_reward = EXPERIMENTS[\"state_only\"]\n",
    "\n",
    "agent = PPOAgent(state_dim=obs_dim, action_dim=act_dim, total_timesteps=10000, distance_model=distance_model, include_distance_state=en_state)\n",
    "agent.train_ppo(envs, use_distance_shaping = True)\n",
    "train_supervised_distance(envs, env, agent, distance_model, en_reward=en_reward)"
   ]
  },
  {
   "cell_type": "code",
   "execution_count": null,
   "id": "2c35866b",
   "metadata": {},
   "outputs": [],
   "source": [
    "agent.save_model()"
   ]
  },
  {
   "cell_type": "code",
   "execution_count": null,
   "id": "fa1778b3",
   "metadata": {},
   "outputs": [],
   "source": [
    "distance_model.plot_distance_heatmap(env, source_point=(-1, 1))"
   ]
  },
  {
   "cell_type": "code",
   "execution_count": null,
   "id": "f60eb5d0",
   "metadata": {},
   "outputs": [],
   "source": [
    "model_path = \"results/ppo_r/PPO_R.cleanrl_model\"\n",
    "agent.agent.load_state_dict(torch.load(model_path, map_location=\"cuda\"))\n",
    "_ = evaluate_ppo(agent, env, num_episodes=100, max_episode_steps=300)\n"
   ]
  },
  {
   "cell_type": "code",
   "execution_count": null,
   "id": "6e36206a",
   "metadata": {},
   "outputs": [],
   "source": [
    "import torch\n",
    "import torch.nn as nn\n",
    "import torch.optim as optim\n",
    "import matplotlib.pyplot as plt\n",
    "import matplotlib.patches as patches\n",
    "import wandb\n",
    "import numpy as np\n",
    "import mujoco \n",
    "\n",
    "from tqdm import trange\n",
    "\n",
    "def plot_distance_heatmap(model, env=None, source_point=None, xlim=None, ylim=None, grid_size=500, cmap=\"viridis\", wall_alpha=0.35, epsilon=0.1):\n",
    "    \"\"\"Heat-map of model-predicted distances with MuJoCo walls overlaid.\"\"\"\n",
    "    source_point = model.start_point if source_point is None else source_point\n",
    "    xlim = model.xlim if xlim is None else xlim\n",
    "    ylim = model.ylim if ylim is None else ylim\n",
    "    x_src, y_src = source_point\n",
    "\n",
    "    # ── 1. build query grid ────────────────────────────────────────────────\n",
    "    xs = np.linspace(*xlim, grid_size)\n",
    "    ys = np.linspace(*ylim, grid_size)\n",
    "    xx, yy = np.meshgrid(xs, ys)\n",
    "    targets = np.stack([xx.ravel(), yy.ravel()], 1)\n",
    "    inp = np.hstack([np.full((targets.shape[0], 2), [x_src, y_src]), targets])\n",
    "\n",
    "    # ── 2. model prediction ───────────────────────────────────────────────\n",
    "    with torch.no_grad():\n",
    "        pred = model(torch.as_tensor(inp, device=model.device, dtype=torch.float32)).squeeze().cpu().numpy()\n",
    "    heatmap = pred.reshape(grid_size, grid_size)\n",
    "\n",
    "    # ── 3. plot heat-map ──────────────────────────────────────────────────\n",
    "    fig, ax = plt.subplots(figsize=(7, 6))\n",
    "    im = ax.imshow(heatmap, origin=\"lower\", extent=(*xlim, *ylim),\n",
    "                cmap=cmap, aspect=\"equal\")\n",
    "    fig.colorbar(im, ax=ax, label=\"Predicted distance\")\n",
    "\n",
    "    # ── 4. overlay walls ──────────────────────────────────────────────────\n",
    "    if env:\n",
    "        mjm = env.unwrapped.model\n",
    "\n",
    "        def geom_name(i):\n",
    "            if hasattr(mjm, \"geom_names\"):\n",
    "                raw = mjm.geom_names[i]\n",
    "                return raw.decode() if isinstance(raw, (bytes, bytearray)) else raw\n",
    "            return mujoco.mj_id2name(mjm, mujoco.mjtObj.mjOBJ_GEOM, i) or \"\"\n",
    "\n",
    "        for gid in range(mjm.ngeom):\n",
    "            name = geom_name(gid).lower()\n",
    "            if \"block\" in name:\n",
    "                cx, cy = mjm.geom_pos[gid, :2]\n",
    "                hx, hy = mjm.geom_size[gid, :2]\n",
    "                ax.add_patch(patches.Rectangle(\n",
    "                    (cx - hx, cy - hy), 2 * hx, 2 * hy,\n",
    "                    facecolor=\"black\", alpha=wall_alpha, edgecolor=\"none\"))\n",
    "\n",
    "    # ── 5. decorations ────────────────────────────────────────────────────\n",
    "    ax.scatter(*source_point, color=\"red\", s=60, edgecolors=\"black\", label=\"Source\")\n",
    "    ax.set_xlabel(\"X\")\n",
    "    ax.set_ylabel(\"Y\")\n",
    "    ax.set_title(\"Distance heat-map with maze\")\n",
    "    ax.grid()\n",
    "    ax.legend()\n",
    "\n",
    "    # ── 6. axis limits and equal scaling ──────────────────────────────────\n",
    "    xeps = epsilon * (xlim[1] - xlim[0])\n",
    "    yeps = epsilon * (ylim[1] - ylim[0])\n",
    "    ax.set_xlim(xlim[0] - xeps, xlim[1] + xeps)\n",
    "    ax.set_ylim(ylim[0] - yeps, ylim[1] + yeps)\n",
    "    ax.set_aspect(\"equal\")\n",
    "\n",
    "    plt.tight_layout()\n",
    "    plt.show()\n",
    "plot_distance_heatmap(distance_model, env, source_point=(-1, -1))"
   ]
  },
  {
   "cell_type": "code",
   "execution_count": null,
   "id": "b05a6acb",
   "metadata": {},
   "outputs": [],
   "source": [
    "trajectories = agent.evaluate_ppo(env, num_episodes=100, max_episode_steps=350)"
   ]
  },
  {
   "cell_type": "code",
   "execution_count": null,
   "id": "f40b6beb",
   "metadata": {},
   "outputs": [],
   "source": [
    "def evaluate_ppo(\n",
    "    agent,\n",
    "    env,\n",
    "    *,\n",
    "    num_episodes: int = 100,\n",
    "    max_episode_steps: int | None = 170,\n",
    "):\n",
    "    device = torch.device(\"cuda\" if torch.cuda.is_available() else \"cpu\")\n",
    "    agent.agent.to(device)         \n",
    "    agent.agent.eval()\n",
    "\n",
    "    trajectories = []\n",
    "    success_count = 0\n",
    "    avg_return = 0\n",
    "\n",
    "    for ep in trange(num_episodes, desc=\"Evaluating\", ncols=100):\n",
    "        obs, _ = env.reset()\n",
    "        episode_traj = []\n",
    "\n",
    "        for step in range(max_episode_steps):\n",
    "            ball_x, ball_y = obs[:2]\n",
    "            episode_traj.append((ball_x, ball_y))\n",
    "\n",
    "            obs_tensor = torch.tensor(obs, dtype=torch.float32, device=device).unsqueeze(0)\n",
    "            with torch.no_grad():\n",
    "                action, *_ = agent.agent.get_action_and_value(obs_tensor)\n",
    "\n",
    "            obs, _, terminated, truncated, info = env.step(action.squeeze(0).cpu().numpy())\n",
    "\n",
    "            if info.get(\"success\", False):\n",
    "                success_count += 1\n",
    "                avg_return += max_episode_steps - step\n",
    "                break\n",
    "            if terminated or truncated:\n",
    "                break\n",
    "\n",
    "        trajectories.append(episode_traj)\n",
    "\n",
    "    print(f\"Success rate over {num_episodes} episodes: {success_count / num_episodes:.2%}, avg_return = {avg_return / success_count if success_count else 0 :.2f}\")\n",
    "    return trajectories\n"
   ]
  },
  {
   "cell_type": "code",
   "execution_count": null,
   "id": "61c4807d",
   "metadata": {},
   "outputs": [],
   "source": [
    "print(f\"Success rate over {num_episodes} episodes: {success_count / num_episodes:.2%}, {avg_return =}\")\n",
    "evaluate_ppo(agent, env, num_episodes=1, max_episode_steps=300)"
   ]
  },
  {
   "cell_type": "code",
   "execution_count": null,
   "id": "c05284fb",
   "metadata": {},
   "outputs": [],
   "source": []
  }
 ],
 "metadata": {
  "kernelspec": {
   "display_name": ".venv",
   "language": "python",
   "name": "python3"
  },
  "language_info": {
   "codemirror_mode": {
    "name": "ipython",
    "version": 3
   },
   "file_extension": ".py",
   "mimetype": "text/x-python",
   "name": "python",
   "nbconvert_exporter": "python",
   "pygments_lexer": "ipython3",
   "version": "3.10.12"
  }
 },
 "nbformat": 4,
 "nbformat_minor": 5
}
