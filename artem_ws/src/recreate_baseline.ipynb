{
 "cells": [
  {
   "cell_type": "markdown",
   "id": "a7d57d13",
   "metadata": {},
   "source": [
    "# **Stage 1**: Train PPO on PointMaze with standard rewards, collect data, train distance models\n"
   ]
  },
  {
   "cell_type": "code",
   "execution_count": 14,
   "id": "18526311",
   "metadata": {},
   "outputs": [
    {
     "name": "stdout",
     "output_type": "stream",
     "text": [
      "CUDA available: True\n",
      "Current device: 0\n",
      "Device name: Tesla V100-SXM3-32GB\n"
     ]
    }
   ],
   "source": [
    "import gymnasium as gym\n",
    "import numpy as np\n",
    "import torch\n",
    "import os\n",
    "\n",
    "import sys\n",
    "sys.path.insert(0, os.path.abspath(os.path.join(os.getcwd(), '..')))\n",
    "from env_wrappers import EnvBuilder\n",
    "from ppo_agent_v2 import PPOAgent\n",
    "from env_wrappers import GoalObservationWrapper\n",
    "from src import distance_models\n",
    "\n",
    "os.environ['WANDB_API_KEY'] = 'd58c31e07030724bbab6b7e8edc93edacd934c87'\n",
    "\n",
    "# Check for GPU\n",
    "print(\"CUDA available:\", torch.cuda.is_available())\n",
    "print(\"Current device:\", torch.cuda.current_device())\n",
    "print(\"Device name:\", torch.cuda.get_device_name(torch.cuda.current_device()) if torch.cuda.is_available() else \"CPU\")"
   ]
  },
  {
   "cell_type": "code",
   "execution_count": null,
   "id": "535a5adc",
   "metadata": {},
   "outputs": [
    {
     "data": {
      "text/html": [
       "Finishing previous runs because reinit is set to 'default'."
      ],
      "text/plain": [
       "<IPython.core.display.HTML object>"
      ]
     },
     "metadata": {},
     "output_type": "display_data"
    },
    {
     "data": {
      "text/html": [],
      "text/plain": [
       "<IPython.core.display.HTML object>"
      ]
     },
     "metadata": {},
     "output_type": "display_data"
    },
    {
     "data": {
      "text/html": [
       " View run <strong style=\"color:#cdcd00\">ppo_1752108835</strong> at: <a href='https://wandb.ai/gamershmidt-sofya-innopolis-university/ppo_airi/runs/7uuge29c' target=\"_blank\">https://wandb.ai/gamershmidt-sofya-innopolis-university/ppo_airi/runs/7uuge29c</a><br> View project at: <a href='https://wandb.ai/gamershmidt-sofya-innopolis-university/ppo_airi' target=\"_blank\">https://wandb.ai/gamershmidt-sofya-innopolis-university/ppo_airi</a><br>Synced 6 W&B file(s), 0 media file(s), 0 artifact file(s) and 1 other file(s)"
      ],
      "text/plain": [
       "<IPython.core.display.HTML object>"
      ]
     },
     "metadata": {},
     "output_type": "display_data"
    },
    {
     "data": {
      "text/html": [
       "Find logs at: <code>./wandb/run-20250710_035355-7uuge29c/logs</code>"
      ],
      "text/plain": [
       "<IPython.core.display.HTML object>"
      ]
     },
     "metadata": {},
     "output_type": "display_data"
    },
    {
     "name": "stderr",
     "output_type": "stream",
     "text": [
      "/home/user7/.venv/lib/python3.10/site-packages/wandb/analytics/sentry.py:258: DeprecationWarning: The `Scope.user` setter is deprecated in favor of `Scope.set_user()`.\n",
      "  self.scope.user = {\"email\": email}\n"
     ]
    },
    {
     "data": {
      "text/html": [
       "Tracking run with wandb version 0.21.0"
      ],
      "text/plain": [
       "<IPython.core.display.HTML object>"
      ]
     },
     "metadata": {},
     "output_type": "display_data"
    },
    {
     "data": {
      "text/html": [
       "Run data is saved locally in <code>/home/user7/artem_ws/artem_ws/src/wandb/run-20250710_035447-91e61wgt</code>"
      ],
      "text/plain": [
       "<IPython.core.display.HTML object>"
      ]
     },
     "metadata": {},
     "output_type": "display_data"
    },
    {
     "data": {
      "text/html": [
       "Syncing run <strong><a href='https://wandb.ai/gamershmidt-sofya-innopolis-university/ppo_airi/runs/91e61wgt' target=\"_blank\">ppo_1752108887</a></strong> to <a href='https://wandb.ai/gamershmidt-sofya-innopolis-university/ppo_airi' target=\"_blank\">Weights & Biases</a> (<a href='https://wandb.me/developer-guide' target=\"_blank\">docs</a>)<br>"
      ],
      "text/plain": [
       "<IPython.core.display.HTML object>"
      ]
     },
     "metadata": {},
     "output_type": "display_data"
    },
    {
     "data": {
      "text/html": [
       " View project at <a href='https://wandb.ai/gamershmidt-sofya-innopolis-university/ppo_airi' target=\"_blank\">https://wandb.ai/gamershmidt-sofya-innopolis-university/ppo_airi</a>"
      ],
      "text/plain": [
       "<IPython.core.display.HTML object>"
      ]
     },
     "metadata": {},
     "output_type": "display_data"
    },
    {
     "data": {
      "text/html": [
       " View run at <a href='https://wandb.ai/gamershmidt-sofya-innopolis-university/ppo_airi/runs/91e61wgt' target=\"_blank\">https://wandb.ai/gamershmidt-sofya-innopolis-university/ppo_airi/runs/91e61wgt</a>"
      ],
      "text/plain": [
       "<IPython.core.display.HTML object>"
      ]
     },
     "metadata": {},
     "output_type": "display_data"
    },
    {
     "name": "stderr",
     "output_type": "stream",
     "text": [
      "\u001b[34m\u001b[1mwandb\u001b[0m: \u001b[33mWARNING\u001b[0m When using several event log directories, please call `wandb.tensorboard.patch(root_logdir=\"...\")` before `wandb.init`\n"
     ]
    }
   ],
   "source": [
    "env_id = 'PointMaze_UMaze-v3'\n",
    "train_episodes = 10000\n",
    "max_episode_steps = 512\n",
    "seed = 0\n",
    "\n",
    "torch.manual_seed(seed); np.random.seed(seed)\n",
    "\n",
    "# Initialize environment\n",
    "c = 'c'; U_map = [\n",
    "    [1, 1, 1, 1, 1],\n",
    "    [1, c, 0, 0, 1],\n",
    "    [1, 1, 1, 0, 1],\n",
    "    [1, c, 0, 0, 1],\n",
    "    [1, 1, 1, 1, 1]\n",
    "]\n",
    "builder = EnvBuilder(env_id=env_id, maze_map=U_map, max_episode_steps=max_episode_steps, seed=seed)\n",
    "obs_dim, act_dim = builder.get_obs_act_dim()"
   ]
  },
  {
   "cell_type": "code",
   "execution_count": 12,
   "id": "29a21f55",
   "metadata": {},
   "outputs": [],
   "source": [
    "N_envs = 1\n",
    "def make_env(env_id, idx, capture_video, run_name, gamma):\n",
    "    def thunk():\n",
    "        # Set render_mode to 'rgb_array' if capturing video\n",
    "        render_mode = \"rgb_array\" if capture_video and idx == 0 else None\n",
    "        env = gym.make(env_id, render_mode=render_mode)\n",
    "        # env = gym.wrappers.FlattenObservation(env)\n",
    "        env = GoalObservationWrapper(env)\n",
    "        if capture_video and idx == 0:\n",
    "            env = gym.wrappers.RecordVideo(env, f\"videos/{run_name}\")\n",
    "        env = gym.wrappers.RecordEpisodeStatistics(env)\n",
    "        return env\n",
    "    return thunk\n",
    "envs = gym.vector.SyncVectorEnv(\n",
    "        [make_env(env_id, seed + i, i, False, \"test\") for i in range(N_envs)]\n",
    "    )"
   ]
  },
  {
   "cell_type": "code",
   "execution_count": 16,
   "id": "6896e091",
   "metadata": {},
   "outputs": [
    {
     "name": "stderr",
     "output_type": "stream",
     "text": [
      "\u001b[34m\u001b[1mwandb\u001b[0m: \u001b[33mWARNING\u001b[0m When using several event log directories, please call `wandb.tensorboard.patch(root_logdir=\"...\")` before `wandb.init`\n",
      "\u001b[34m\u001b[1mwandb\u001b[0m: \u001b[33mWARNING\u001b[0m Found log directory outside of given root_logdir, dropping given root_logdir for event file in /tmp/ppo_logs\n"
     ]
    },
    {
     "name": "stdout",
     "output_type": "stream",
     "text": [
      "global_step=300, episodic_return=[0.]\n",
      "global_step=600, episodic_return=[137.]\n",
      "global_step=900, episodic_return=[0.]\n",
      "global_step=1200, episodic_return=[0.]\n",
      "global_step=1500, episodic_return=[204.]\n",
      "global_step=1800, episodic_return=[48.]\n",
      "global_step=2100, episodic_return=[183.]\n",
      "global_step=2400, episodic_return=[0.]\n",
      "global_step=2700, episodic_return=[0.]\n",
      "global_step=3000, episodic_return=[0.]\n",
      "global_step=3300, episodic_return=[0.]\n",
      "global_step=3600, episodic_return=[0.]\n",
      "global_step=3900, episodic_return=[0.]\n",
      "global_step=4200, episodic_return=[0.]\n",
      "global_step=4500, episodic_return=[0.]\n",
      "global_step=4800, episodic_return=[40.]\n",
      "global_step=5100, episodic_return=[0.]\n",
      "global_step=5400, episodic_return=[38.]\n",
      "global_step=5700, episodic_return=[89.]\n",
      "global_step=6000, episodic_return=[0.]\n",
      "global_step=6300, episodic_return=[0.]\n",
      "global_step=6600, episodic_return=[26.]\n",
      "global_step=6900, episodic_return=[0.]\n",
      "global_step=7200, episodic_return=[0.]\n",
      "global_step=7500, episodic_return=[0.]\n",
      "global_step=7800, episodic_return=[59.]\n",
      "global_step=8100, episodic_return=[12.]\n"
     ]
    }
   ],
   "source": [
    "# Base\n",
    "agent = PPOAgent(state_dim=obs_dim, action_dim=act_dim, total_timesteps=10000, log_to_wandb=False)\n",
    "agent.train_ppo(envs)"
   ]
  },
  {
   "cell_type": "code",
   "execution_count": 17,
   "id": "7930259c",
   "metadata": {},
   "outputs": [
    {
     "name": "stderr",
     "output_type": "stream",
     "text": [
      "\u001b[34m\u001b[1mwandb\u001b[0m: \u001b[33mWARNING\u001b[0m When using several event log directories, please call `wandb.tensorboard.patch(root_logdir=\"...\")` before `wandb.init`\n",
      "\u001b[34m\u001b[1mwandb\u001b[0m: \u001b[33mWARNING\u001b[0m Found log directory outside of given root_logdir, dropping given root_logdir for event file in /tmp/ppo_logs\n"
     ]
    },
    {
     "name": "stdout",
     "output_type": "stream",
     "text": [
      "global_step=300, episodic_return=[0.]\n",
      "global_step=600, episodic_return=[129.]\n",
      "global_step=900, episodic_return=[0.]\n",
      "global_step=1200, episodic_return=[0.]\n",
      "global_step=1500, episodic_return=[204.]\n",
      "global_step=1800, episodic_return=[53.]\n",
      "global_step=2100, episodic_return=[182.]\n",
      "global_step=2400, episodic_return=[0.]\n",
      "global_step=2700, episodic_return=[0.]\n",
      "global_step=3000, episodic_return=[0.]\n",
      "global_step=3300, episodic_return=[0.]\n",
      "global_step=3600, episodic_return=[0.]\n",
      "global_step=3900, episodic_return=[0.]\n",
      "global_step=4200, episodic_return=[0.]\n",
      "global_step=4500, episodic_return=[0.]\n",
      "global_step=4800, episodic_return=[0.]\n",
      "global_step=5100, episodic_return=[0.]\n",
      "global_step=5400, episodic_return=[13.]\n",
      "global_step=5700, episodic_return=[0.]\n",
      "global_step=6000, episodic_return=[0.]\n",
      "global_step=6300, episodic_return=[0.]\n",
      "global_step=6600, episodic_return=[53.]\n",
      "global_step=6900, episodic_return=[0.]\n",
      "global_step=7200, episodic_return=[0.]\n",
      "global_step=7500, episodic_return=[0.]\n",
      "global_step=7800, episodic_return=[40.]\n",
      "global_step=8100, episodic_return=[0.]\n"
     ]
    }
   ],
   "source": [
    "# reward\n",
    "distance_model = distance_models.SupervisedDistanceEstimator(input_dim=4)\n",
    "agent = PPOAgent(state_dim=obs_dim, action_dim=act_dim, total_timesteps=10000, distance_model=distance_model, log_to_wandb=False)\n",
    "agent.train_ppo(envs, use_distance_shaping = True)"
   ]
  },
  {
   "cell_type": "code",
   "execution_count": 18,
   "id": "8ca36d96",
   "metadata": {},
   "outputs": [
    {
     "name": "stderr",
     "output_type": "stream",
     "text": [
      "\u001b[34m\u001b[1mwandb\u001b[0m: \u001b[33mWARNING\u001b[0m When using several event log directories, please call `wandb.tensorboard.patch(root_logdir=\"...\")` before `wandb.init`\n",
      "\u001b[34m\u001b[1mwandb\u001b[0m: \u001b[33mWARNING\u001b[0m Found log directory outside of given root_logdir, dropping given root_logdir for event file in /tmp/ppo_logs\n"
     ]
    },
    {
     "name": "stdout",
     "output_type": "stream",
     "text": [
      "global_step=300, episodic_return=[0.]\n",
      "global_step=600, episodic_return=[133.]\n",
      "global_step=900, episodic_return=[0.]\n",
      "global_step=1200, episodic_return=[0.]\n",
      "global_step=1500, episodic_return=[200.]\n",
      "global_step=1800, episodic_return=[21.]\n",
      "global_step=2100, episodic_return=[182.]\n",
      "global_step=2400, episodic_return=[0.]\n",
      "global_step=2700, episodic_return=[0.]\n",
      "global_step=3000, episodic_return=[0.]\n",
      "global_step=3300, episodic_return=[0.]\n",
      "global_step=3600, episodic_return=[0.]\n",
      "global_step=3900, episodic_return=[0.]\n",
      "global_step=4200, episodic_return=[0.]\n",
      "global_step=4500, episodic_return=[0.]\n",
      "global_step=4800, episodic_return=[0.]\n",
      "global_step=5100, episodic_return=[0.]\n",
      "global_step=5400, episodic_return=[0.]\n",
      "global_step=5700, episodic_return=[0.]\n",
      "global_step=6000, episodic_return=[0.]\n",
      "global_step=6300, episodic_return=[0.]\n",
      "global_step=6600, episodic_return=[141.]\n",
      "global_step=6900, episodic_return=[0.]\n",
      "global_step=7200, episodic_return=[0.]\n",
      "global_step=7500, episodic_return=[0.]\n",
      "global_step=7800, episodic_return=[42.]\n",
      "global_step=8100, episodic_return=[147.]\n"
     ]
    }
   ],
   "source": [
    "# state\n",
    "distance_model = distance_models.SupervisedDistanceEstimator(input_dim=4)\n",
    "agent = PPOAgent(state_dim=obs_dim, action_dim=act_dim, total_timesteps=10000, distance_model=distance_model, include_distance_state=True, log_to_wandb=False)\n",
    "agent.train_ppo(envs, use_distance_shaping = False)"
   ]
  },
  {
   "cell_type": "code",
   "execution_count": 20,
   "id": "83eab0eb",
   "metadata": {},
   "outputs": [
    {
     "name": "stderr",
     "output_type": "stream",
     "text": [
      "\u001b[34m\u001b[1mwandb\u001b[0m: \u001b[33mWARNING\u001b[0m When using several event log directories, please call `wandb.tensorboard.patch(root_logdir=\"...\")` before `wandb.init`\n",
      "\u001b[34m\u001b[1mwandb\u001b[0m: \u001b[33mWARNING\u001b[0m Found log directory outside of given root_logdir, dropping given root_logdir for event file in /tmp/ppo_logs\n"
     ]
    },
    {
     "name": "stdout",
     "output_type": "stream",
     "text": [
      "global_step=300, episodic_return=[0.]\n",
      "global_step=600, episodic_return=[133.]\n",
      "global_step=900, episodic_return=[0.]\n",
      "global_step=1200, episodic_return=[0.]\n",
      "global_step=1500, episodic_return=[200.]\n",
      "global_step=1800, episodic_return=[21.]\n",
      "global_step=2100, episodic_return=[182.]\n",
      "global_step=2400, episodic_return=[0.]\n",
      "global_step=2700, episodic_return=[0.]\n",
      "global_step=3000, episodic_return=[0.]\n",
      "global_step=3300, episodic_return=[0.]\n",
      "global_step=3600, episodic_return=[0.]\n",
      "global_step=3900, episodic_return=[0.]\n",
      "global_step=4200, episodic_return=[0.]\n",
      "global_step=4500, episodic_return=[0.]\n",
      "global_step=4800, episodic_return=[0.]\n",
      "global_step=5100, episodic_return=[0.]\n",
      "global_step=5400, episodic_return=[0.]\n",
      "global_step=5700, episodic_return=[0.]\n",
      "global_step=6000, episodic_return=[0.]\n",
      "global_step=6300, episodic_return=[0.]\n",
      "global_step=6600, episodic_return=[120.]\n",
      "global_step=6900, episodic_return=[0.]\n",
      "global_step=7200, episodic_return=[0.]\n",
      "global_step=7500, episodic_return=[0.]\n",
      "global_step=7800, episodic_return=[43.]\n",
      "global_step=8100, episodic_return=[129.]\n"
     ]
    }
   ],
   "source": [
    "# both (state + reward)\n",
    "distance_model = distance_models.SupervisedDistanceEstimator(input_dim=4)\n",
    "agent = PPOAgent(state_dim=obs_dim, action_dim=act_dim, total_timesteps=10000, distance_model=distance_model, include_distance_state=True, log_to_wandb=False)\n",
    "agent.train_ppo(envs, use_distance_shaping = True)"
   ]
  },
  {
   "cell_type": "code",
   "execution_count": null,
   "id": "f282795b",
   "metadata": {},
   "outputs": [],
   "source": [
    "# model_path = \"runs/ppo_1752098546.9388137.cleanrl_model\"\n",
    "# agent.agent.load_state_dict(torch.load(model_path, map_location=\"cuda\"))"
   ]
  },
  {
   "cell_type": "code",
   "execution_count": null,
   "id": "5c17c4bd",
   "metadata": {},
   "outputs": [],
   "source": [
    "# agent.save_model()"
   ]
  },
  {
   "cell_type": "code",
   "execution_count": 9,
   "id": "c11cdd21",
   "metadata": {},
   "outputs": [
    {
     "name": "stderr",
     "output_type": "stream",
     "text": [
      "Evaluating: 100%|███████████████████████████████████████████████████| 10/10 [00:03<00:00,  3.01it/s]"
     ]
    },
    {
     "name": "stdout",
     "output_type": "stream",
     "text": [
      "Success rate: 0.00%, avg_return: 0.00\n"
     ]
    },
    {
     "name": "stderr",
     "output_type": "stream",
     "text": [
      "\n"
     ]
    }
   ],
   "source": [
    "env = builder()\n",
    "trajectories = agent.evaluate_ppo(env, num_episodes=10, max_episode_steps=250)"
   ]
  },
  {
   "cell_type": "code",
   "execution_count": null,
   "id": "97b50acb",
   "metadata": {},
   "outputs": [],
   "source": [
    "from src.utils import trajectories_to_dataset\n",
    "dataset = trajectories_to_dataset(trajectories, samples=500000)"
   ]
  },
  {
   "cell_type": "code",
   "execution_count": null,
   "id": "c285313a",
   "metadata": {},
   "outputs": [],
   "source": [
    "\n",
    "sup_model = distance_models.SupervisedDistanceEstimator(input_dim=4)\n",
    "sup_loss = sup_model.train_from_data(dataset, epochs=20, batch_size=16192)\n",
    "# eval_loss = sup_model.evaluate_from_data(dataset, save_model=True)"
   ]
  },
  {
   "cell_type": "code",
   "execution_count": null,
   "id": "4cd99b18",
   "metadata": {},
   "outputs": [],
   "source": [
    "sup_model.plot_distance_heatmap(env=env)"
   ]
  }
 ],
 "metadata": {
  "kernelspec": {
   "display_name": ".venv",
   "language": "python",
   "name": "python3"
  },
  "language_info": {
   "codemirror_mode": {
    "name": "ipython",
    "version": 3
   },
   "file_extension": ".py",
   "mimetype": "text/x-python",
   "name": "python",
   "nbconvert_exporter": "python",
   "pygments_lexer": "ipython3",
   "version": "3.10.12"
  }
 },
 "nbformat": 4,
 "nbformat_minor": 5
}
